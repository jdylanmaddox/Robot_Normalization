{
 "cells": [
  {
   "cell_type": "code",
   "execution_count": 9,
   "id": "85e216b9-656a-42fc-8559-5717fbbc9a89",
   "metadata": {},
   "outputs": [],
   "source": [
    "# To run simply hit the play button above until cell runs "
   ]
  },
  {
   "cell_type": "code",
   "execution_count": 10,
   "id": "1e04a787-be99-4e80-add1-1affe360b566",
   "metadata": {
    "tags": []
   },
   "outputs": [],
   "source": [
    "# load function\n",
    "from create_normalization_protocol import normalize"
   ]
  },
  {
   "cell_type": "code",
   "execution_count": 11,
   "id": "88c6dfb1-80ba-40e1-9d84-75147ce2464a",
   "metadata": {
    "tags": []
   },
   "outputs": [
    {
     "name": "stdout",
     "output_type": "stream",
     "text": [
      "---> Minimum DNA Concentration = 1.0\n",
      "---> Maximum DNA Concentration = 168.15\n",
      "---> Average DNA Concentration = 53.04\n",
      "\n",
      "*** 9 sample(s) have too much liquid ***\n",
      "---- See overages.csv file for specifics ----\n",
      "   dna_well norm_well  dna_con  dna_ul  water_ul\n",
      "16       A3        A3   168.15     2.0    166.15\n",
      "39       H5        H5   102.25     2.0    100.25\n",
      "49       B7        B7   135.86     2.0    133.86\n",
      "50       C7        C7   113.77     2.0    111.77\n",
      "51       D7        D7   105.74     2.0    103.74\n",
      "54       G7        G7   109.38     2.0    107.38\n",
      "71       H9        H9   142.45     2.0    140.45\n",
      "90      C12       C12   132.40     2.0    130.40\n",
      "94      G12       G12   136.46     2.0    134.46\n",
      "\n",
      "*** 1 samples have too low concentrations ***\n",
      "---- See too_low.csv file for specifics ----\n",
      "  dna_well norm_well  dna_con  dna_ul  water_ul\n",
      "0       A1        A1      1.0    20.0     -10.0\n"
     ]
    }
   ],
   "source": [
    "# change the arguments below to fit your normalization\n",
    "# you can run the function multiple times to find the perfect combination\n",
    "\n",
    "normalize(\n",
    "    # enter name of DNA concentration file; must upload to Binder environment\n",
    "    dna_file = 'plate_reader.csv',\n",
    "    \n",
    "    # format of DNA concentration file: (1) plate_reader or (2) dna_column\n",
    "    data_format = 'dna_column',\n",
    "    \n",
    "    # prefix name for output files\n",
    "    base_name = 'DM.2022.12.18',\n",
    "    \n",
    "    # minimum volume of DNA to use\n",
    "    sample_min = 2.0,\n",
    "    \n",
    "    # minimum final volume (i.e., after adding DNA and water)\n",
    "    total_vol_min = 10.0,\n",
    "    \n",
    "    # final desired DNA concentration\n",
    "    final_con = 2.0,\n",
    "    \n",
    "    # add indicated volume of DNA when its concentration is lower than final desired DNA concentration\n",
    "    low_con_add = 0,\n",
    "    \n",
    "    # simulate run on OT-2\n",
    "    simulate_run = 'no'\n",
    ")"
   ]
  },
  {
   "cell_type": "code",
   "execution_count": 12,
   "id": "b5526c8d-a884-43f8-95ee-d3c9155b95e0",
   "metadata": {},
   "outputs": [],
   "source": [
    "# copy the output_files directory to your computer \n",
    "# the {base_name}_normalization_protocol.py file can be imported directly to our OT-2 robot"
   ]
  },
  {
   "cell_type": "code",
   "execution_count": null,
   "id": "110ca249-6f87-4b27-a449-00b340bd4961",
   "metadata": {},
   "outputs": [],
   "source": []
  }
 ],
 "metadata": {
  "kernelspec": {
   "display_name": "Python 3 (ipykernel)",
   "language": "python",
   "name": "python3"
  },
  "language_info": {
   "codemirror_mode": {
    "name": "ipython",
    "version": 3
   },
   "file_extension": ".py",
   "mimetype": "text/x-python",
   "name": "python",
   "nbconvert_exporter": "python",
   "pygments_lexer": "ipython3",
   "version": "3.10.8"
  }
 },
 "nbformat": 4,
 "nbformat_minor": 5
}
